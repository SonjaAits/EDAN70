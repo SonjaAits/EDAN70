{
 "cells": [
  {
   "cell_type": "raw",
   "metadata": {},
   "source": [
    "2020-03-31\n",
    "Aim: fix comm_use_subset_100, learn structure of dataset and annotation, learn jupyter, generate metafile\n",
    "\n",
    "\n",
    "Getting subset:"
   ]
  },
  {
   "cell_type": "code",
   "execution_count": 1,
   "metadata": {},
   "outputs": [],
   "source": [
    "import os, random, shutil\n",
    "\n",
    "comm_use_subset_100 = random.sample(os.listdir(\"/Users/jesperlaurell/EDAN70/comm_use_subset\"), 100)\n",
    "\n",
    "for filename in comm_use_subset_100:\n",
    "    shutil.copy(\"/Users/jesperlaurell/EDAN70/comm_use_subset/\" + filename, '/Users/jesperlaurell/EDAN70/comm_use_subset_100')\n",
    "\n"
   ]
  },
  {
   "cell_type": "raw",
   "metadata": {},
   "source": [
    "After generating the subset by running the above code once a new metafile was generated:"
   ]
  },
  {
   "cell_type": "code",
   "execution_count": null,
   "metadata": {},
   "outputs": [],
   "source": [
    "import pathlib, os\n",
    "\n",
    "parentpath = str(pathlib.Path(__file__).parent.absolute())\n",
    "comm_use_subset_100 = parentpath + \"/comm_use_subset_100\"\n",
    "\n",
    "filenames = []\n",
    "for f in os.listdir(comm_use_subset_100):\n",
    "    print(f[:-5])\n",
    "    filenames.append(f[:-5])\n",
    "\n",
    "out = open(\"meta_subset_100.csv\",\"w+\")\n",
    "\n",
    "for line in open(\"metadata.csv\", \"r\"):\n",
    "    for f in filenames:\n",
    "        if(f in line):\n",
    "            print(f)\n",
    "            out.write(line)\n"
   ]
  },
  {
   "cell_type": "raw",
   "metadata": {},
   "source": [
    "Conclusion/Next steps: The tagger is not yet complete since we need to ensure we have the correct format"
   ]
  }
 ],
 "metadata": {
  "kernelspec": {
   "display_name": "Python 3",
   "language": "python",
   "name": "python3"
  },
  "language_info": {
   "codemirror_mode": {
    "name": "ipython",
    "version": 3
   },
   "file_extension": ".py",
   "mimetype": "text/x-python",
   "name": "python",
   "nbconvert_exporter": "python",
   "pygments_lexer": "ipython3",
   "version": "3.7.6"
  }
 },
 "nbformat": 4,
 "nbformat_minor": 4
}
