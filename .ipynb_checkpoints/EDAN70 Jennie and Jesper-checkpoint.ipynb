{
 "cells": [
  {
   "cell_type": "raw",
   "metadata": {},
   "source": [
    "2020-03-31\n",
    "Aim: fix comm_use_subset_100, learn structure of dataset and annotation, learn jupyter, generate metafile\n",
    "\n",
    "Python3 code for getting subset:"
   ]
  },
  {
   "cell_type": "code",
   "execution_count": 1,
   "metadata": {},
   "outputs": [],
   "source": [
    "import os, random, shutil\n",
    "\n",
    "comm_use_subset_100 = random.sample(os.listdir(\"/Users/jesperlaurell/EDAN70/comm_use_subset\"), 100)\n",
    "\n",
    "for filename in comm_use_subset_100:\n",
    "    shutil.copy(\"/Users/jesperlaurell/EDAN70/comm_use_subset/\" + filename, '/Users/jesperlaurell/EDAN70/comm_use_subset_100')\n",
    "\n"
   ]
  },
  {
   "cell_type": "raw",
   "metadata": {},
   "source": [
    "After generating the subset by running the above code once a new metafile was generated:"
   ]
  },
  {
   "cell_type": "raw",
   "metadata": {},
   "source": []
  },
  {
   "cell_type": "raw",
   "metadata": {},
   "source": [
    "Conclusion/Next steps: ?"
   ]
  }
 ],
 "metadata": {
  "kernelspec": {
   "display_name": "Python 3",
   "language": "python",
   "name": "python3"
  },
  "language_info": {
   "codemirror_mode": {
    "name": "ipython",
    "version": 3
   },
   "file_extension": ".py",
   "mimetype": "text/x-python",
   "name": "python",
   "nbconvert_exporter": "python",
   "pygments_lexer": "ipython3",
   "version": "3.7.6"
  }
 },
 "nbformat": 4,
 "nbformat_minor": 4
}
